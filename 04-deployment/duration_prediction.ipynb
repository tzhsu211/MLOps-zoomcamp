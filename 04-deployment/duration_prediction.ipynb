{
 "cells": [
  {
   "cell_type": "code",
   "execution_count": 8,
   "id": "e068c2bd",
   "metadata": {},
   "outputs": [],
   "source": [
    "import pandas as pd\n",
    "import numpy as np\n",
    "import mlflow\n",
    "import xgboost as xgb\n",
    "from sklearn.feature_extraction import DictVectorizer\n",
    "from sklearn.metrics import root_mean_squared_error\n",
    "from pathlib import Path"
   ]
  },
  {
   "cell_type": "code",
   "execution_count": 3,
   "id": "e7aaf489",
   "metadata": {},
   "outputs": [],
   "source": [
    "def file_load(path:str) -> pd.DataFrame:\n",
    "    \n",
    "    cols = ['lpep_pickup_datetime', 'lpep_dropoff_datetime', 'PULocationID', 'DOLocationID',\n",
    "       'trip_distance']\n",
    "    df = pd.read_parquet(path, columns=cols)\n",
    "    \n",
    "    df['duration'] = (df['lpep_dropoff_datetime']-df['lpep_pickup_datetime']).dt.total_seconds()/60\n",
    "    df = df[(df['duration']>=1)&(df['duration']<=60)]\n",
    "    \n",
    "    df['PU_DO'] = df['PULocationID'].astype(str) + \"_\" + df['DOLocationID'].astype(str)\n",
    "    \n",
    "    return df[['duration', 'PU_DO', 'trip_distance']]"
   ]
  },
  {
   "cell_type": "code",
   "execution_count": 4,
   "id": "0c1f0960",
   "metadata": {},
   "outputs": [],
   "source": [
    "df_train = file_load('../Data/green_tripdata_2021-01.parquet')"
   ]
  },
  {
   "cell_type": "code",
   "execution_count": 5,
   "id": "6fd928fe",
   "metadata": {},
   "outputs": [
    {
     "data": {
      "text/html": [
       "<div>\n",
       "<style scoped>\n",
       "    .dataframe tbody tr th:only-of-type {\n",
       "        vertical-align: middle;\n",
       "    }\n",
       "\n",
       "    .dataframe tbody tr th {\n",
       "        vertical-align: top;\n",
       "    }\n",
       "\n",
       "    .dataframe thead th {\n",
       "        text-align: right;\n",
       "    }\n",
       "</style>\n",
       "<table border=\"1\" class=\"dataframe\">\n",
       "  <thead>\n",
       "    <tr style=\"text-align: right;\">\n",
       "      <th></th>\n",
       "      <th>duration</th>\n",
       "      <th>PU_DO</th>\n",
       "      <th>trip_distance</th>\n",
       "    </tr>\n",
       "  </thead>\n",
       "  <tbody>\n",
       "    <tr>\n",
       "      <th>0</th>\n",
       "      <td>3.933333</td>\n",
       "      <td>43_151</td>\n",
       "      <td>1.01</td>\n",
       "    </tr>\n",
       "    <tr>\n",
       "      <th>1</th>\n",
       "      <td>8.750000</td>\n",
       "      <td>166_239</td>\n",
       "      <td>2.53</td>\n",
       "    </tr>\n",
       "    <tr>\n",
       "      <th>2</th>\n",
       "      <td>5.966667</td>\n",
       "      <td>41_42</td>\n",
       "      <td>1.12</td>\n",
       "    </tr>\n",
       "    <tr>\n",
       "      <th>3</th>\n",
       "      <td>7.083333</td>\n",
       "      <td>168_75</td>\n",
       "      <td>1.99</td>\n",
       "    </tr>\n",
       "    <tr>\n",
       "      <th>7</th>\n",
       "      <td>2.316667</td>\n",
       "      <td>75_75</td>\n",
       "      <td>0.45</td>\n",
       "    </tr>\n",
       "  </tbody>\n",
       "</table>\n",
       "</div>"
      ],
      "text/plain": [
       "   duration    PU_DO  trip_distance\n",
       "0  3.933333   43_151           1.01\n",
       "1  8.750000  166_239           2.53\n",
       "2  5.966667    41_42           1.12\n",
       "3  7.083333   168_75           1.99\n",
       "7  2.316667    75_75           0.45"
      ]
     },
     "execution_count": 5,
     "metadata": {},
     "output_type": "execute_result"
    }
   ],
   "source": [
    "df_train.head()"
   ]
  },
  {
   "cell_type": "code",
   "execution_count": 9,
   "id": "6f8c847a",
   "metadata": {},
   "outputs": [],
   "source": [
    "mlflow.set_tracking_uri('sqlite:///mlflow.db')\n",
    "mlflow.set_experiment('nyc-taxi-experiment')\n",
    "models_folder = Path('models')\n",
    "models_folder.mkdir(exist_ok=True)"
   ]
  },
  {
   "cell_type": "code",
   "execution_count": 10,
   "id": "32156895",
   "metadata": {},
   "outputs": [],
   "source": [
    "def X_feature(df:pd.DataFrame, dv:DictVectorizer = None):\n",
    "    \n",
    "    dic = df[['PU_DO', 'trip_distance']].to_dict(orient = 'records')\n",
    "    \n",
    "    if dv is None:\n",
    "        dv = DictVectorizer()\n",
    "        x = dv.fit_transform(dic)\n",
    "        \n",
    "    else:\n",
    "        x = dv.fit(dic)\n",
    "        \n",
    "    return x"
   ]
  },
  {
   "cell_type": "code",
   "execution_count": null,
   "id": "e7a382d4",
   "metadata": {},
   "outputs": [],
   "source": [
    "def model_training(X_train, y_train, X_val, y_val, dv):\n",
    "    \n",
    "    with mlflow.start_run():\n",
    "        train = xgb.DMatrix(X_train, y_train)\n",
    "        val = xgb.DMatrix(X_val, y_val)"
   ]
  }
 ],
 "metadata": {
  "kernelspec": {
   "display_name": "Python 3",
   "language": "python",
   "name": "python3"
  },
  "language_info": {
   "codemirror_mode": {
    "name": "ipython",
    "version": 3
   },
   "file_extension": ".py",
   "mimetype": "text/x-python",
   "name": "python",
   "nbconvert_exporter": "python",
   "pygments_lexer": "ipython3",
   "version": "3.12.1"
  }
 },
 "nbformat": 4,
 "nbformat_minor": 5
}
