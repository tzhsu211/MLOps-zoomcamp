{
 "cells": [
  {
   "cell_type": "code",
   "execution_count": 1,
   "id": "e068c2bd",
   "metadata": {},
   "outputs": [],
   "source": [
    "import pandas as pd\n",
    "import numpy as np\n",
    "import mlflow\n",
    "import xgboost as xgb\n",
    "from sklearn.feature_extraction import DictVectorizer\n",
    "from sklearn.metrics import root_mean_squared_error\n",
    "from pathlib import Path\n",
    "import pickle"
   ]
  },
  {
   "cell_type": "code",
   "execution_count": 3,
   "id": "e7aaf489",
   "metadata": {},
   "outputs": [],
   "source": [
    "def file_load(path:str) -> pd.DataFrame:\n",
    "    \n",
    "    cols = ['lpep_pickup_datetime', 'lpep_dropoff_datetime', 'PULocationID', 'DOLocationID',\n",
    "       'trip_distance']\n",
    "    df = pd.read_parquet(path, columns=cols)\n",
    "    \n",
    "    df['duration'] = (df['lpep_dropoff_datetime']-df['lpep_pickup_datetime']).dt.total_seconds()/60\n",
    "    df = df[(df['duration']>=1)&(df['duration']<=60)]\n",
    "    \n",
    "    df['PU_DO'] = df['PULocationID'].astype(str) + \"_\" + df['DOLocationID'].astype(str)\n",
    "    \n",
    "    return df[['duration', 'PU_DO', 'trip_distance']]"
   ]
  },
  {
   "cell_type": "code",
   "execution_count": 4,
   "id": "0c1f0960",
   "metadata": {},
   "outputs": [],
   "source": [
    "df_train = file_load('../Data/green_tripdata_2021-01.parquet')"
   ]
  },
  {
   "cell_type": "code",
   "execution_count": 5,
   "id": "43efa20a",
   "metadata": {},
   "outputs": [],
   "source": [
    "df_val = file_load('../Data/green_tripdata_2021-02.parquet')"
   ]
  },
  {
   "cell_type": "code",
   "execution_count": 6,
   "id": "6fd928fe",
   "metadata": {},
   "outputs": [
    {
     "data": {
      "text/html": [
       "<div>\n",
       "<style scoped>\n",
       "    .dataframe tbody tr th:only-of-type {\n",
       "        vertical-align: middle;\n",
       "    }\n",
       "\n",
       "    .dataframe tbody tr th {\n",
       "        vertical-align: top;\n",
       "    }\n",
       "\n",
       "    .dataframe thead th {\n",
       "        text-align: right;\n",
       "    }\n",
       "</style>\n",
       "<table border=\"1\" class=\"dataframe\">\n",
       "  <thead>\n",
       "    <tr style=\"text-align: right;\">\n",
       "      <th></th>\n",
       "      <th>duration</th>\n",
       "      <th>PU_DO</th>\n",
       "      <th>trip_distance</th>\n",
       "    </tr>\n",
       "  </thead>\n",
       "  <tbody>\n",
       "    <tr>\n",
       "      <th>0</th>\n",
       "      <td>3.933333</td>\n",
       "      <td>43_151</td>\n",
       "      <td>1.01</td>\n",
       "    </tr>\n",
       "    <tr>\n",
       "      <th>1</th>\n",
       "      <td>8.750000</td>\n",
       "      <td>166_239</td>\n",
       "      <td>2.53</td>\n",
       "    </tr>\n",
       "    <tr>\n",
       "      <th>2</th>\n",
       "      <td>5.966667</td>\n",
       "      <td>41_42</td>\n",
       "      <td>1.12</td>\n",
       "    </tr>\n",
       "    <tr>\n",
       "      <th>3</th>\n",
       "      <td>7.083333</td>\n",
       "      <td>168_75</td>\n",
       "      <td>1.99</td>\n",
       "    </tr>\n",
       "    <tr>\n",
       "      <th>7</th>\n",
       "      <td>2.316667</td>\n",
       "      <td>75_75</td>\n",
       "      <td>0.45</td>\n",
       "    </tr>\n",
       "  </tbody>\n",
       "</table>\n",
       "</div>"
      ],
      "text/plain": [
       "   duration    PU_DO  trip_distance\n",
       "0  3.933333   43_151           1.01\n",
       "1  8.750000  166_239           2.53\n",
       "2  5.966667    41_42           1.12\n",
       "3  7.083333   168_75           1.99\n",
       "7  2.316667    75_75           0.45"
      ]
     },
     "execution_count": 6,
     "metadata": {},
     "output_type": "execute_result"
    }
   ],
   "source": [
    "df_train.head()"
   ]
  },
  {
   "cell_type": "code",
   "execution_count": 7,
   "id": "6f8c847a",
   "metadata": {},
   "outputs": [
    {
     "name": "stderr",
     "output_type": "stream",
     "text": [
      "2025/06/17 18:16:06 INFO mlflow.store.db.utils: Creating initial MLflow database tables...\n",
      "2025/06/17 18:16:06 INFO mlflow.store.db.utils: Updating database tables\n",
      "INFO  [alembic.runtime.migration] Context impl SQLiteImpl.\n",
      "INFO  [alembic.runtime.migration] Will assume non-transactional DDL.\n",
      "INFO  [alembic.runtime.migration] Context impl SQLiteImpl.\n",
      "INFO  [alembic.runtime.migration] Will assume non-transactional DDL.\n"
     ]
    }
   ],
   "source": [
    "mlflow.set_tracking_uri('sqlite:///mlflow.db')\n",
    "mlflow.set_experiment('nyc-taxi-experiment')\n",
    "models_folder = Path('models')\n",
    "models_folder.mkdir(exist_ok=True)"
   ]
  },
  {
   "cell_type": "code",
   "execution_count": 13,
   "id": "32156895",
   "metadata": {},
   "outputs": [],
   "source": [
    "def X_feature(df:pd.DataFrame, dv:DictVectorizer = None):\n",
    "    \n",
    "    dic = df[['PU_DO', 'trip_distance']].to_dict(orient = 'records')\n",
    "    \n",
    "    if dv is None:\n",
    "        dv = DictVectorizer()\n",
    "        x = dv.fit_transform(dic)\n",
    "        \n",
    "    else:\n",
    "        x = dv.transform(dic)\n",
    "    \n",
    "    y = df['duration']\n",
    "        \n",
    "    return x, y, dv"
   ]
  },
  {
   "cell_type": "code",
   "execution_count": 14,
   "id": "58403b3b",
   "metadata": {},
   "outputs": [],
   "source": [
    "X_train, y_train, dv = X_feature(df_train)"
   ]
  },
  {
   "cell_type": "code",
   "execution_count": 15,
   "id": "2fe3787b",
   "metadata": {},
   "outputs": [],
   "source": [
    "X_val, y_val, dv = X_feature(df_val, dv)"
   ]
  },
  {
   "cell_type": "code",
   "execution_count": 32,
   "id": "ec1f031e",
   "metadata": {},
   "outputs": [
    {
     "data": {
      "text/plain": [
       "408"
      ]
     },
     "execution_count": 32,
     "metadata": {},
     "output_type": "execute_result"
    }
   ],
   "source": [
    "import gc\n",
    "gc.collect()"
   ]
  },
  {
   "cell_type": "code",
   "execution_count": 30,
   "id": "e7a382d4",
   "metadata": {},
   "outputs": [],
   "source": [
    "import mlflow.xgboost\n",
    "\n",
    "\n",
    "def model_training(X_train, y_train, X_val, y_val, dv):\n",
    "    \n",
    "    with mlflow.start_run():\n",
    "        train = xgb.DMatrix(X_train, label = y_train)\n",
    "        val = xgb.DMatrix(X_val, label = y_val)\n",
    "        \n",
    "        best_params = {\n",
    "            'learning_rate': 0.09585355369315604,\n",
    "            'max_depth': 30,\n",
    "            'min_child_weight': 1.060597050922164,\n",
    "            'objective': 'reg:linear',\n",
    "            'reg_alpha': 0.018060244040060163,\n",
    "            'reg_lambda': 0.011658731377413597,\n",
    "            'seed': 42\n",
    "        }\n",
    "        \n",
    "        mlflow.log_params(best_params)\n",
    "        \n",
    "        booster = xgb.train(params=best_params, dtrain=train, num_boost_round=30, evals=[(val, 'validation')], early_stopping_rounds=50)\n",
    "        \n",
    "        y_pred = booster.predict(val)\n",
    "        rmse = root_mean_squared_error(y_val, y_pred)\n",
    "        mlflow.log_metric('RMSE', rmse)\n",
    "        \n",
    "        with open('models/preprocessor.b', 'wb') as f_out:\n",
    "            pickle.dump(dv, f_out)\n",
    "            \n",
    "        mlflow.log_artifact('models/preprocessor.b', artifact_path='preprocessor')\n",
    "        mlflow.xgboost.log_model(booster, artifact_path='models_mlflow')\n",
    "        \n",
    "    return booster, dv\n",
    "\n",
    "            "
   ]
  },
  {
   "cell_type": "code",
   "execution_count": 31,
   "id": "3a501814",
   "metadata": {},
   "outputs": [
    {
     "name": "stderr",
     "output_type": "stream",
     "text": [
      "/home/codespace/.python/current/lib/python3.12/site-packages/xgboost/callback.py:386: UserWarning: [18:23:05] WARNING: /workspace/src/objective/regression_obj.cu:250: reg:linear is now deprecated in favor of reg:squarederror.\n",
      "  self.starting_round = model.num_boosted_rounds()\n"
     ]
    },
    {
     "name": "stdout",
     "output_type": "stream",
     "text": [
      "[0]\tvalidation-rmse:11.44482\n",
      "[1]\tvalidation-rmse:10.77202\n",
      "[2]\tvalidation-rmse:10.18363\n",
      "[3]\tvalidation-rmse:9.67396\n",
      "[4]\tvalidation-rmse:9.23166\n",
      "[5]\tvalidation-rmse:8.84808\n",
      "[6]\tvalidation-rmse:8.51883\n",
      "[7]\tvalidation-rmse:8.23597\n",
      "[8]\tvalidation-rmse:7.99320\n",
      "[9]\tvalidation-rmse:7.78709\n",
      "[10]\tvalidation-rmse:7.61022\n",
      "[11]\tvalidation-rmse:7.45952\n",
      "[12]\tvalidation-rmse:7.33049\n",
      "[13]\tvalidation-rmse:7.22098\n",
      "[14]\tvalidation-rmse:7.12713\n",
      "[15]\tvalidation-rmse:7.04752\n",
      "[16]\tvalidation-rmse:6.98005\n",
      "[17]\tvalidation-rmse:6.92232\n",
      "[18]\tvalidation-rmse:6.87112\n",
      "[19]\tvalidation-rmse:6.82740\n",
      "[20]\tvalidation-rmse:6.78995\n",
      "[21]\tvalidation-rmse:6.75792\n",
      "[22]\tvalidation-rmse:6.72994\n",
      "[23]\tvalidation-rmse:6.70547\n",
      "[24]\tvalidation-rmse:6.68390\n",
      "[25]\tvalidation-rmse:6.66421\n",
      "[26]\tvalidation-rmse:6.64806\n",
      "[27]\tvalidation-rmse:6.63280\n",
      "[28]\tvalidation-rmse:6.61924\n",
      "[29]\tvalidation-rmse:6.60773\n"
     ]
    },
    {
     "name": "stderr",
     "output_type": "stream",
     "text": [
      "2025/06/17 18:23:38 WARNING mlflow.models.model: `artifact_path` is deprecated. Please use `name` instead.\n",
      "/home/codespace/.python/current/lib/python3.12/site-packages/mlflow/xgboost/__init__.py:168: UserWarning: [18:23:38] WARNING: /workspace/src/c_api/c_api.cc:1427: Saving model in the UBJSON format as default.  You can use file extension: `json`, `ubj` or `deprecated` to choose between formats.\n",
      "  xgb_model.save_model(model_data_path)\n",
      "\u001b[31m2025/06/17 18:23:41 WARNING mlflow.models.model: Model logged without a signature and input example. Please set `input_example` parameter when logging the model to auto infer the model signature.\u001b[0m\n"
     ]
    }
   ],
   "source": [
    "booster, dv = model_training(X_train, y_train, X_val, y_val, dv)"
   ]
  },
  {
   "cell_type": "code",
   "execution_count": null,
   "id": "c3551022",
   "metadata": {},
   "outputs": [],
   "source": []
  }
 ],
 "metadata": {
  "kernelspec": {
   "display_name": "Python 3",
   "language": "python",
   "name": "python3"
  },
  "language_info": {
   "codemirror_mode": {
    "name": "ipython",
    "version": 3
   },
   "file_extension": ".py",
   "mimetype": "text/x-python",
   "name": "python",
   "nbconvert_exporter": "python",
   "pygments_lexer": "ipython3",
   "version": "3.12.1"
  }
 },
 "nbformat": 4,
 "nbformat_minor": 5
}
