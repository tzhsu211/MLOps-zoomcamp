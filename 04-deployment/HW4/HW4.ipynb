{
 "cells": [
  {
   "cell_type": "markdown",
   "id": "3efe5fd9",
   "metadata": {},
   "source": [
    "# HW4\n",
    "\n",
    "part of ans from starter.ipynb and starter.py"
   ]
  },
  {
   "cell_type": "markdown",
   "id": "3dd7f644",
   "metadata": {},
   "source": [
    "## Q1. Notebook\n",
    "We'll start with the same notebook we ended up with in homework 1. We cleaned it a little bit and kept only the scoring part. You can find the initial notebook here.\n",
    "\n",
    "Run this notebook for the March 2023 data.\n",
    "\n",
    "What's the standard deviation of the predicted duration for this dataset?\n",
    "\n",
    "* 1.24\n",
    "* 6.24\n",
    "* 12.28\n",
    "* 18.28"
   ]
  },
  {
   "cell_type": "markdown",
   "id": "0ac95c0b",
   "metadata": {},
   "source": [
    "### Ans: 6.24"
   ]
  },
  {
   "cell_type": "markdown",
   "id": "28e65374",
   "metadata": {},
   "source": [
    "## Q2. Preparing the output\n",
    "Like in the course videos, we want to prepare the dataframe with the output.\n",
    "\n",
    "First, let's create an artificial ride_id column:\n",
    "\n",
    "`df['ride_id'] = f'{year:04d}/{month:02d}_' + df.index.astype('str')`\n",
    "Next, write the ride id and the predictions to a dataframe with results.\n",
    "\n",
    "Save it as parquet:\n",
    "\n",
    "```\n",
    "df_result.to_parquet(\n",
    "    output_file,\n",
    "    engine='pyarrow',\n",
    "    compression=None,\n",
    "    index=False\n",
    ")\n",
    "```\n",
    "\n",
    "What's the size of the output file?\n",
    "\n",
    "* 36M\n",
    "* 46M\n",
    "* 56M\n",
    "* 66M\n",
    "\n",
    "Note: Make sure you use the snippet above for saving the file. It should contain only these two columns. For this question, don't change the dtypes of the columns and use pyarrow, not fastparquet."
   ]
  },
  {
   "cell_type": "markdown",
   "id": "7864a42a",
   "metadata": {},
   "source": [
    "### Ans: 66K\n",
    "\n",
    "`.../MLOps-zoomcamp/04-deployment/HW4/output (main) $ ls -l\n",
    "\n",
    "\n",
    "total 67036\n",
    "-rw-rw-rw- 1 codespace codespace 68641758 Jun 23 09:44 output_yellow_tripdata_2023-03.parquet`"
   ]
  },
  {
   "cell_type": "markdown",
   "id": "68859229",
   "metadata": {},
   "source": [
    "## Q3. Creating the scoring script\n",
    "Now let's turn the notebook into a script.\n",
    "\n",
    "Which command you need to execute for that?\n",
    "\n"
   ]
  },
  {
   "cell_type": "markdown",
   "id": "4f6244e0",
   "metadata": {},
   "source": [
    "### Ans: jupyter nbconvert --to script starter.ipynb"
   ]
  },
  {
   "cell_type": "markdown",
   "id": "b3d7403d",
   "metadata": {},
   "source": [
    "## Q4. Virtual environment\n",
    "Now let's put everything into a virtual environment. We'll use pipenv for that.\n",
    "\n",
    "Install all the required libraries. Pay attention to the Scikit-Learn version: it should be the same as in the starter notebook.\n",
    "\n",
    "After installing the libraries, pipenv creates two files: Pipfile and Pipfile.lock. The Pipfile.lock file keeps the hashes of the dependencies we use for the virtual env.\n",
    "\n",
    "What's the first hash for the Scikit-Learn dependency?"
   ]
  },
  {
   "cell_type": "markdown",
   "id": "eecc4136",
   "metadata": {},
   "source": [
    "### Ans: \"sha256:0650e730afb87402baa88afbf31c07b84c98272622aaba002559b614600ca691\","
   ]
  },
  {
   "cell_type": "markdown",
   "id": "c875012b",
   "metadata": {},
   "source": []
  },
  {
   "cell_type": "markdown",
   "id": "4e87b993",
   "metadata": {},
   "source": [
    "## Q5. Parametrize the script\n",
    "Let's now make the script configurable via CLI. We'll create two parameters: year and month.\n",
    "\n",
    "Run the script for April 2023.\n",
    "\n",
    "What's the mean predicted duration?\n",
    "\n",
    "* 7.29\n",
    "* 14.29\n",
    "* 21.29\n",
    "* 28.29\n",
    "\n",
    "\n",
    "Hint: just add a print statement to your script.\n",
    "\n"
   ]
  },
  {
   "cell_type": "markdown",
   "id": "6bde9d9b",
   "metadata": {},
   "source": [
    "### Ans: 14.29\n",
    "\n",
    "The mean of predicted duration is 14.292282936862437."
   ]
  },
  {
   "cell_type": "markdown",
   "id": "e16b12da",
   "metadata": {},
   "source": []
  },
  {
   "cell_type": "markdown",
   "id": "b072593e",
   "metadata": {},
   "source": [
    "## Q6. Docker container\n",
    "Finally, we'll package the script in the docker container. For that, you'll need to use a base image that we prepared.\n",
    "\n",
    "This is what the content of this image is:\n",
    "\n",
    "```\n",
    "FROM python:3.10.13-slim\n",
    "WORKDIR /app\n",
    "COPY [ \"model2.bin\", \"model.bin\" ]\n",
    "```\n",
    "\n",
    "Note: you don't need to run it. We have already done it.\n",
    "\n",
    "It is pushed to agrigorev/zoomcamp-model:mlops-2024-3.10.13-slim, which you need to use as your base image.\n",
    "\n",
    "That is, your Dockerfile should start with:\n",
    "\n",
    "`FROM agrigorev/zoomcamp-model:mlops-2024-3.10.13-slim`\n",
    "\n",
    "# do stuff here\n",
    "This image already has a pickle file with a dictionary vectorizer and a model. You will need to use them.\n",
    "\n",
    "Important: don't copy the model to the docker image. You will need to use the pickle file already in the image.\n",
    "\n",
    "Now run the script with docker. What's the mean predicted duration for May 2023?\n",
    "\n",
    "* 0.19\n",
    "* 7.24\n",
    "* 14.24\n",
    "* 21.19"
   ]
  },
  {
   "cell_type": "markdown",
   "id": "1795e0b8",
   "metadata": {},
   "source": []
  }
 ],
 "metadata": {
  "language_info": {
   "name": "python"
  }
 },
 "nbformat": 4,
 "nbformat_minor": 5
}
