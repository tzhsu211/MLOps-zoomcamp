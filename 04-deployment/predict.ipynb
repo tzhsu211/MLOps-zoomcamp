{
 "cells": [
  {
   "cell_type": "code",
   "execution_count": 1,
   "id": "1367390e",
   "metadata": {},
   "outputs": [],
   "source": [
    "import mlflow"
   ]
  },
  {
   "cell_type": "code",
   "execution_count": 2,
   "id": "18b341b8",
   "metadata": {},
   "outputs": [],
   "source": [
    "mlflow.set_tracking_uri('sqlite:///mlflow.db')"
   ]
  },
  {
   "cell_type": "code",
   "execution_count": 8,
   "id": "29f4bdac",
   "metadata": {},
   "outputs": [
    {
     "ename": "MlflowException",
     "evalue": "Could not find an \"MLmodel\" configuration file at \"/workspaces/MLOps-zoomcamp/04-deployment/mlruns/2/models/m-2728a9c5bc9841588e574a9a8c8fa52b/MLmodel\"",
     "output_type": "error",
     "traceback": [
      "\u001b[31m---------------------------------------------------------------------------\u001b[39m",
      "\u001b[31mMlflowException\u001b[39m                           Traceback (most recent call last)",
      "\u001b[36mCell\u001b[39m\u001b[36m \u001b[39m\u001b[32mIn[8]\u001b[39m\u001b[32m, line 2\u001b[39m\n\u001b[32m      1\u001b[39m model_path = \u001b[33m\"\u001b[39m\u001b[33mmlruns/2/models/m-2728a9c5bc9841588e574a9a8c8fa52b\u001b[39m\u001b[33m\"\u001b[39m\n\u001b[32m----> \u001b[39m\u001b[32m2\u001b[39m loaded_model = \u001b[43mmlflow\u001b[49m\u001b[43m.\u001b[49m\u001b[43mpyfunc\u001b[49m\u001b[43m.\u001b[49m\u001b[43mload_model\u001b[49m\u001b[43m(\u001b[49m\u001b[43mmodel_path\u001b[49m\u001b[43m)\u001b[49m\n",
      "\u001b[36mFile \u001b[39m\u001b[32m~/.python/current/lib/python3.12/site-packages/mlflow/tracing/provider.py:435\u001b[39m, in \u001b[36mtrace_disabled.<locals>.wrapper\u001b[39m\u001b[34m(*args, **kwargs)\u001b[39m\n\u001b[32m    433\u001b[39m disable()\n\u001b[32m    434\u001b[39m \u001b[38;5;28;01mtry\u001b[39;00m:\n\u001b[32m--> \u001b[39m\u001b[32m435\u001b[39m     is_func_called, result = \u001b[38;5;28;01mTrue\u001b[39;00m, \u001b[43mf\u001b[49m\u001b[43m(\u001b[49m\u001b[43m*\u001b[49m\u001b[43margs\u001b[49m\u001b[43m,\u001b[49m\u001b[43m \u001b[49m\u001b[43m*\u001b[49m\u001b[43m*\u001b[49m\u001b[43mkwargs\u001b[49m\u001b[43m)\u001b[49m\n\u001b[32m    436\u001b[39m \u001b[38;5;28;01mfinally\u001b[39;00m:\n\u001b[32m    437\u001b[39m     enable()\n",
      "\u001b[36mFile \u001b[39m\u001b[32m~/.python/current/lib/python3.12/site-packages/mlflow/pyfunc/__init__.py:1135\u001b[39m, in \u001b[36mload_model\u001b[39m\u001b[34m(model_uri, suppress_warnings, dst_path, model_config)\u001b[39m\n\u001b[32m   1132\u001b[39m     model_requirements = _get_pip_requirements_from_model_path(local_path)\n\u001b[32m   1133\u001b[39m     warn_dependency_requirement_mismatches(model_requirements)\n\u001b[32m-> \u001b[39m\u001b[32m1135\u001b[39m model_meta = \u001b[43mModel\u001b[49m\u001b[43m.\u001b[49m\u001b[43mload\u001b[49m\u001b[43m(\u001b[49m\u001b[43mos\u001b[49m\u001b[43m.\u001b[49m\u001b[43mpath\u001b[49m\u001b[43m.\u001b[49m\u001b[43mjoin\u001b[49m\u001b[43m(\u001b[49m\u001b[43mlocal_path\u001b[49m\u001b[43m,\u001b[49m\u001b[43m \u001b[49m\u001b[43mMLMODEL_FILE_NAME\u001b[49m\u001b[43m)\u001b[49m\u001b[43m)\u001b[49m\n\u001b[32m   1137\u001b[39m \u001b[38;5;28;01mif\u001b[39;00m model_meta.metadata \u001b[38;5;129;01mand\u001b[39;00m model_meta.metadata.get(MLFLOW_MODEL_IS_EXTERNAL, \u001b[38;5;28;01mFalse\u001b[39;00m) \u001b[38;5;129;01mis\u001b[39;00m \u001b[38;5;28;01mTrue\u001b[39;00m:\n\u001b[32m   1138\u001b[39m     \u001b[38;5;28;01mraise\u001b[39;00m MlflowException(\n\u001b[32m   1139\u001b[39m         \u001b[33m\"\u001b[39m\u001b[33mThis model\u001b[39m\u001b[33m'\u001b[39m\u001b[33ms artifacts are external and are not stored in the model directory.\u001b[39m\u001b[33m\"\u001b[39m\n\u001b[32m   1140\u001b[39m         \u001b[33m\"\u001b[39m\u001b[33m This model cannot be loaded with MLflow.\u001b[39m\u001b[33m\"\u001b[39m,\n\u001b[32m   1141\u001b[39m         BAD_REQUEST,\n\u001b[32m   1142\u001b[39m     )\n",
      "\u001b[36mFile \u001b[39m\u001b[32m~/.python/current/lib/python3.12/site-packages/mlflow/models/model.py:801\u001b[39m, in \u001b[36mModel.load\u001b[39m\u001b[34m(cls, path)\u001b[39m\n\u001b[32m    799\u001b[39m path_scheme = urlparse(path).scheme\n\u001b[32m    800\u001b[39m \u001b[38;5;28;01mif\u001b[39;00m (\u001b[38;5;129;01mnot\u001b[39;00m path_scheme \u001b[38;5;129;01mor\u001b[39;00m path_scheme == \u001b[33m\"\u001b[39m\u001b[33mfile\u001b[39m\u001b[33m\"\u001b[39m) \u001b[38;5;129;01mand\u001b[39;00m \u001b[38;5;129;01mnot\u001b[39;00m os.path.exists(path):\n\u001b[32m--> \u001b[39m\u001b[32m801\u001b[39m     \u001b[38;5;28;01mraise\u001b[39;00m MlflowException(\n\u001b[32m    802\u001b[39m         \u001b[33mf\u001b[39m\u001b[33m'\u001b[39m\u001b[33mCould not find an \u001b[39m\u001b[33m\"\u001b[39m\u001b[38;5;132;01m{\u001b[39;00mMLMODEL_FILE_NAME\u001b[38;5;132;01m}\u001b[39;00m\u001b[33m\"\u001b[39m\u001b[33m configuration file at \u001b[39m\u001b[33m\"\u001b[39m\u001b[38;5;132;01m{\u001b[39;00mpath\u001b[38;5;132;01m}\u001b[39;00m\u001b[33m\"\u001b[39m\u001b[33m'\u001b[39m,\n\u001b[32m    803\u001b[39m         RESOURCE_DOES_NOT_EXIST,\n\u001b[32m    804\u001b[39m     )\n\u001b[32m    806\u001b[39m \u001b[38;5;28;01mif\u001b[39;00m ModelsArtifactRepository._is_logged_model_uri(path):\n\u001b[32m    807\u001b[39m     path = ModelsArtifactRepository.get_underlying_uri(path)\n",
      "\u001b[31mMlflowException\u001b[39m: Could not find an \"MLmodel\" configuration file at \"/workspaces/MLOps-zoomcamp/04-deployment/mlruns/2/models/m-2728a9c5bc9841588e574a9a8c8fa52b/MLmodel\""
     ]
    }
   ],
   "source": [
    "model_path = \"mlruns/2/models/m-2728a9c5bc9841588e574a9a8c8fa52b\"\n",
    "loaded_model = mlflow.pyfunc.load_model(model_path)"
   ]
  },
  {
   "cell_type": "code",
   "execution_count": null,
   "id": "693cff27",
   "metadata": {},
   "outputs": [],
   "source": []
  }
 ],
 "metadata": {
  "kernelspec": {
   "display_name": "Python 3",
   "language": "python",
   "name": "python3"
  },
  "language_info": {
   "codemirror_mode": {
    "name": "ipython",
    "version": 3
   },
   "file_extension": ".py",
   "mimetype": "text/x-python",
   "name": "python",
   "nbconvert_exporter": "python",
   "pygments_lexer": "ipython3",
   "version": "3.12.1"
  }
 },
 "nbformat": 4,
 "nbformat_minor": 5
}
