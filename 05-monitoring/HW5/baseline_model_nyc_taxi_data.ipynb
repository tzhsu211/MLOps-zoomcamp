{
 "cells": [
  {
   "cell_type": "markdown",
   "id": "14759589",
   "metadata": {},
   "source": [
    "# Monintoring"
   ]
  },
  {
   "cell_type": "code",
   "execution_count": 1,
   "id": "dec6e302",
   "metadata": {},
   "outputs": [],
   "source": [
    "import requests\n",
    "import prefect\n",
    "import pandas as pd\n",
    "import datetime\n",
    "\n",
    "from joblib import dump, load\n",
    "from tqdm.auto import tqdm"
   ]
  },
  {
   "cell_type": "code",
   "execution_count": 2,
   "id": "24df28d0",
   "metadata": {},
   "outputs": [],
   "source": [
    "from sklearn.linear_model import LinearRegression\n",
    "from sklearn.metrics import mean_absolute_error, mean_absolute_percentage_error"
   ]
  },
  {
   "cell_type": "code",
   "execution_count": 3,
   "id": "988eee34",
   "metadata": {},
   "outputs": [],
   "source": [
    "from evidently import ColumnMapping\n",
    "from evidently.report import Report\n",
    "from evidently.metrics import ColumnDriftMetric, DatasetDriftMetric, DatasetMissingValuesMetric\n"
   ]
  },
  {
   "cell_type": "code",
   "execution_count": null,
   "id": "a847f007",
   "metadata": {},
   "outputs": [],
   "source": []
  }
 ],
 "metadata": {
  "kernelspec": {
   "display_name": "Python 3",
   "language": "python",
   "name": "python3"
  },
  "language_info": {
   "codemirror_mode": {
    "name": "ipython",
    "version": 3
   },
   "file_extension": ".py",
   "mimetype": "text/x-python",
   "name": "python",
   "nbconvert_exporter": "python",
   "pygments_lexer": "ipython3",
   "version": "3.12.1"
  }
 },
 "nbformat": 4,
 "nbformat_minor": 5
}
