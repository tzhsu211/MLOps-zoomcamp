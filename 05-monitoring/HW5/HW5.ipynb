{
 "cells": [
  {
   "cell_type": "markdown",
   "id": "65365e85",
   "metadata": {},
   "source": [
    "# HW5"
   ]
  }
 ],
 "metadata": {
  "kernelspec": {
   "display_name": "Python 3",
   "language": "python",
   "name": "python3"
  },
  "language_info": {
   "name": "python",
   "version": "3.12.1"
  }
 },
 "nbformat": 4,
 "nbformat_minor": 5
}
