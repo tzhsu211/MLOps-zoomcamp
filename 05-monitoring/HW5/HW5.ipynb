{
 "cells": [
  {
   "cell_type": "markdown",
   "id": "65365e85",
   "metadata": {},
   "source": [
    "# HW5"
   ]
  },
  {
   "cell_type": "markdown",
   "id": "459bde37",
   "metadata": {},
   "source": [
    "## Q1. Prepare the dataset\n",
    "Start with baseline_model_nyc_taxi_data.ipynb. Download the March 2024 Green Taxi data. We will use this data to simulate a production usage of a taxi trip duration prediction service.\n",
    "\n",
    "What is the shape of the downloaded data? How many rows are there?\n",
    "\n",
    "* 72044\n",
    "* 78537\n",
    "* 57457\n",
    "* 54396"
   ]
  },
  {
   "cell_type": "markdown",
   "id": "9e5eb2e2",
   "metadata": {},
   "source": [
    "### Ans: 57457"
   ]
  },
  {
   "cell_type": "markdown",
   "id": "03d396ad",
   "metadata": {},
   "source": [
    "## Q2. Metric\n",
    "Let's expand the number of data quality metrics we’d like to monitor! Please add one metric of your choice and a quantile value for the \"fare_amount\" column (quantile=0.5).\n",
    "\n",
    "Hint: explore evidently metric ColumnQuantileMetric (from evidently.metrics import ColumnQuantileMetric)\n",
    "\n",
    "What metric did you choose?\n",
    "\n"
   ]
  },
  {
   "cell_type": "markdown",
   "id": "469cc612",
   "metadata": {},
   "source": [
    "### Ans: Mean of trip_distance"
   ]
  },
  {
   "cell_type": "markdown",
   "id": "10ad61ae",
   "metadata": {},
   "source": [
    "## Q3. Monitoring\n",
    "Let’s start monitoring. Run expanded monitoring for a new batch of data (March 2024).\n",
    "\n",
    "What is the maximum value of metric quantile = 0.5 on the \"fare_amount\" column during March 2024 (calculated daily)?\n",
    "\n",
    "* 10\n",
    "* 12.5\n",
    "* 14.2\n",
    "* 14.8"
   ]
  },
  {
   "cell_type": "markdown",
   "id": "7fae3a70",
   "metadata": {},
   "source": [
    "### Ans: 14.2"
   ]
  },
  {
   "cell_type": "markdown",
   "id": "9bead8e8",
   "metadata": {},
   "source": [
    "## Q4. Dashboard\n",
    "Finally, let’s add panels with new added metrics to the dashboard. After we customize the dashboard let's save a dashboard config, so that we can access it later. Hint: click on “Save dashboard” to access JSON configuration of the dashboard. This configuration should be saved locally.\n",
    "\n",
    "Where to place a dashboard config file?\n",
    "\n",
    "* project_folder (05-monitoring)\n",
    "* project_folder/config (05-monitoring/config)\n",
    "* project_folder/dashboards (05-monitoring/dashboards)\n",
    "* project_folder/data (05-monitoring/data)"
   ]
  },
  {
   "cell_type": "markdown",
   "id": "b8bf1994",
   "metadata": {},
   "source": [
    "### Ans: project_folder/dashboards"
   ]
  },
  {
   "cell_type": "markdown",
   "id": "60e73812",
   "metadata": {},
   "source": []
  }
 ],
 "metadata": {
  "kernelspec": {
   "display_name": "Python 3",
   "language": "python",
   "name": "python3"
  },
  "language_info": {
   "name": "python",
   "version": "3.12.1"
  }
 },
 "nbformat": 4,
 "nbformat_minor": 5
}
