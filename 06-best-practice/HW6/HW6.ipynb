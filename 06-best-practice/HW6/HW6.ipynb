{
 "cells": [
  {
   "cell_type": "markdown",
   "id": "5148b7ca",
   "metadata": {},
   "source": [
    "# HW6"
   ]
  },
  {
   "cell_type": "markdown",
   "id": "15765c7c",
   "metadata": {},
   "source": [
    "## Q1. Refactoring\n",
    "Before we can start covering our code with tests, we need to refactor it. We'll start by getting rid of all the global variables.\n",
    "\n",
    "Let's create a function main with two parameters: year and month.\n",
    "\n",
    "* Move all the code (except read_data) inside main\n",
    "* Make categorical a parameter for read_data and pass it inside main\n",
    "\n",
    "Now we need to create the \"main\" block from which we'll invoke the main function. How does the if statement that we use for this looks like?\n",
    "\n",
    "Hint: after refactoring, check that the code still works. Just run it e.g. for March 2023 and see if it finishes successfully.\n",
    "\n",
    "To make it easier to run it, you can write results to your local filesystem. E.g. here:\n",
    "\n",
    "`output_file = f'taxi_type=yellow_year={year:04d}_month={month:02d}.parquet'`"
   ]
  },
  {
   "cell_type": "markdown",
   "id": "428d5f7f",
   "metadata": {},
   "source": [
    "### Ans:\n",
    "```\n",
    "if __name__ == '__main__':\n",
    "    year = int(sys.argv[1])\n",
    "    month = int(sys.argv[2])\n",
    "    main(year, month)\n",
    "```"
   ]
  },
  {
   "cell_type": "markdown",
   "id": "42aa1f64",
   "metadata": {},
   "source": [
    "## Q2. Installing pytest\n",
    "Now we need to install pytest:\n",
    "\n",
    "`pipenv install --dev pytest`\n",
    "\n",
    "Next, create a folder `tests` and create two files. One will be the file with tests. We can name it `test_batch.py`.\n",
    "\n",
    "What should be the other file?\n",
    "\n",
    "Hint: to be able to test `batch.py`, we need to be able to import it. Without this other file, we won't be able to do it."
   ]
  },
  {
   "cell_type": "markdown",
   "id": "06618eed",
   "metadata": {},
   "source": [
    "### Ans: \n",
    "`__init__.py`"
   ]
  },
  {
   "cell_type": "markdown",
   "id": "76ce5ebd",
   "metadata": {},
   "source": [
    "## Q3. Writing first unit test\n",
    "Now let's cover our code with unit tests.\n",
    "\n",
    "We'll start with the pre-processing logic inside `read_data`.\n",
    "\n",
    "It's difficult to test right now because first reads the file and then performs some transformations. We need to split this code into two parts: reading (I/O) and transformation.\n",
    "\n",
    "So let's create a function `prepare_data` that takes in a dataframe (and some other parameters too) and applies some transformation to it.\n",
    "\n",
    "(That's basically the entire `read_data` function after reading the parquet file)\n",
    "\n",
    "Now create a test and use this as input:\n",
    "\n",
    "```\n",
    "data = [\n",
    "    (None, None, dt(1, 1), dt(1, 10)),\n",
    "    (1, 1, dt(1, 2), dt(1, 10)),\n",
    "    (1, None, dt(1, 2, 0), dt(1, 2, 59)),\n",
    "    (3, 4, dt(1, 2, 0), dt(2, 2, 1)),      \n",
    "]\n",
    "\n",
    "columns = ['PULocationID', 'DOLocationID', 'tpep_pickup_datetime', 'tpep_dropoff_datetime']\n",
    "df = pd.DataFrame(data, columns=columns)\n",
    "```\n",
    "\n",
    "\n",
    "Where `dt` is a helper function:\n",
    "\n",
    "```\n",
    "from datetime import datetime\n",
    "\n",
    "def dt(hour, minute, second=0):\n",
    "    return datetime(2023, 1, 1, hour, minute, second)\n",
    "```\n",
    "\n",
    "Define the expected output and use the assert to make sure that the actual dataframe matches the expected one.\n",
    "\n",
    "Tip: When you compare two Pandas DataFrames, the result is also a DataFrame. The same is true for Pandas Series. Also, a DataFrame could be turned into a list of dictionaries.\n",
    "\n",
    "How many rows should be there in the expected dataframe?\n",
    "\n",
    "* 1\n",
    "* 2\n",
    "* 3\n",
    "* 4"
   ]
  },
  {
   "cell_type": "markdown",
   "id": "616d0a63",
   "metadata": {},
   "source": [
    "### Ans:\n",
    "2\n",
    "\n",
    "```\n",
    "expected_dataframe = [\n",
    "        ('-1', '-1', dt(1, 1), dt(1, 10), 9.0),\n",
    "        ('1', '1', dt(1, 2), dt(1, 10), 8.0),\n",
    "        ]\n",
    "```"
   ]
  },
  {
   "cell_type": "markdown",
   "id": "d663ee6f",
   "metadata": {},
   "source": [
    "## Q4. Mocking S3 with Localstack\n",
    "Now let's prepare for an integration test. In our script, we write data to S3. So we'll use Localstack to mimic S3.\n",
    "\n",
    "First, let's run Localstack with Docker compose. Let's create a `docker-compose.yaml` file with just one service: localstack. Inside localstack, we're only interested in running S3.\n",
    "\n",
    "Start the service and test it by creating a bucket where we'll keep the output. Let's call it \"nyc-duration\".\n",
    "\n",
    "With AWS CLI, this is how we create a bucket:\n",
    "\n",
    "`aws s3 mb s3://nyc-duration`\n",
    "\n",
    "Then we need to check that the bucket was successfully created. With AWS, this is how we typically do it:\n",
    "\n",
    "`aws s3 ls`\n",
    "\n",
    "In both cases we should adjust commands for localstack. What option do we need to use for such purposes?\n",
    "\n",
    "* `--backend-store-uri`\n",
    "* `--profile`\n",
    "* `--endpoint-url`\n",
    "* `--version`"
   ]
  },
  {
   "cell_type": "markdown",
   "id": "96648232",
   "metadata": {},
   "source": [
    "### Ans:\n",
    "--endpoint-url \n",
    "\n",
    "to tell the cli to talk to the url provided here (usually localhost when using localstack) rather then the actual aws sys."
   ]
  },
  {
   "cell_type": "markdown",
   "id": "da2d14f2",
   "metadata": {},
   "source": [
    "## Make input and output paths configurable\n",
    "Right now the input and output paths are hardcoded, but we want to change it for the tests.\n",
    "\n",
    "One of the possible ways would be to specify `INPUT_FILE_PATTERN` and `OUTPUT_FILE_PATTERN` via the env variables. Let's do that:\n",
    "\n",
    "`export INPUT_FILE_PATTERN=\"s3://nyc-duration/in/{year:04d}-{month:02d}.parquet\"`\n",
    "\n",
    "`export OUTPUT_FILE_PATTERN=\"s3://nyc-duration/out/{year:04d}-{month:02d}.parquet\"`\n",
    "\n",
    "And this is how we can read them:\n",
    "\n",
    "```\n",
    "def get_input_path(year, month):\n",
    "    default_input_pattern = 'https://d37ci6vzurychx.cloudfront.net/trip-data/yellow_tripdata_{year:04d}-{month:02d}.parquet'\n",
    "    input_pattern = os.getenv('INPUT_FILE_PATTERN', default_input_pattern)\n",
    "    return input_pattern.format(year=year, month=month)\n",
    "```\n",
    "\n",
    "```\n",
    "def get_output_path(year, month):\n",
    "    default_output_pattern = 's3://nyc-duration-prediction-alexey/taxi_type=fhv/year={year:04d}/month={month:02d}/predictions.parquet'\n",
    "    output_pattern = os.getenv('OUTPUT_FILE_PATTERN', default_output_pattern)\n",
    "    return output_pattern.format(year=year, month=month)\n",
    "```\n",
    "\n",
    "```\n",
    "def main(year, month):\n",
    "    input_file = get_input_path(year, month)\n",
    "    output_file = get_output_path(year, month)\n",
    "    # rest of the main function ... \n",
    "```"
   ]
  },
  {
   "cell_type": "markdown",
   "id": "45e92f59",
   "metadata": {},
   "source": [
    "## Reading from Localstack S3 with Pandas\n",
    "So far we've been reading parquet files from S3 with using pandas read_parquet. But this way we read it from the actual S3 service. Now we need to replace it with our localstack one.\n",
    "\n",
    "For that, we need to specify the endpoint url:\n",
    "\n",
    "```\n",
    "options = {\n",
    "    'client_kwargs': {\n",
    "        'endpoint_url': S3_ENDPOINT_URL\n",
    "    }\n",
    "}\n",
    "```\n",
    "\n",
    "`df = pd.read_parquet('s3://bucket/file.parquet', storage_options=options)`\n",
    "\n",
    "Let's modify our read_data function:\n",
    "\n",
    "* check if S3_ENDPOINT_URL is set, and if it is, use it for reading\n",
    "* otherwise use the usual way"
   ]
  },
  {
   "cell_type": "markdown",
   "id": "bb576f14",
   "metadata": {},
   "source": [
    "## Q5. Creating test data\n",
    "Now let's create `integration_test.py`\n",
    "\n",
    "We'll use the dataframe we created in Q3 (the dataframe for the unit test) and save it to S3. You don't need to do anything else: just create a dataframe and save it.\n",
    "\n",
    "We will pretend that this is data for January 2023.\n",
    "\n",
    "Run the `integration_test.py` script. After that, use AWS CLI to verify that the file was created.\n",
    "\n",
    "Use this snipped for saving the file:\n",
    "\n",
    "```\n",
    "df_input.to_parquet(\n",
    "    input_file,\n",
    "    engine='pyarrow',\n",
    "    compression=None,\n",
    "    index=False,\n",
    "    storage_options=options\n",
    ")\n",
    "```\n",
    "\n",
    "What's the size of the file?\n",
    "\n",
    "* 3620\n",
    "* 23620\n",
    "* 43620\n",
    "* 63620\n",
    "\n",
    "Note: it's important to use the code from the snippet for saving the file. Otherwise the size may be different depending on the OS, engine and compression. Even if you use this exact snippet, the size of your dataframe may still be a bit off. Just select the closest option."
   ]
  },
  {
   "cell_type": "markdown",
   "id": "a7e0395d",
   "metadata": {},
   "source": [
    "### Ans:"
   ]
  },
  {
   "cell_type": "markdown",
   "id": "2d6ecddc",
   "metadata": {},
   "source": [
    "## Q6. Finish the integration test\n",
    "We can read from our localstack s3, but we also need to write to it.\n",
    "\n",
    "Create a function `save_data` which works similarly to `read_data`, but we use it for saving a dataframe.\n",
    "\n",
    "Let's run the `batch.py` script for January 2023 (the fake data we created in Q5).\n",
    "\n",
    "We can do that from our integration test in Python: we can use `os.system` for doing that (there are other options too).\n",
    "\n",
    "Now it saves the result to localstack.\n",
    "\n",
    "The only thing we need to do now is to read this data and verify the result is correct.\n",
    "\n",
    "What's the sum of predicted durations for the test dataframe?\n",
    "\n",
    "* 13.08\n",
    "* 36.28\n",
    "* 69.28\n",
    "* 81.08"
   ]
  },
  {
   "cell_type": "markdown",
   "id": "0f1a0932",
   "metadata": {},
   "source": [
    "### Ans:"
   ]
  },
  {
   "cell_type": "markdown",
   "id": "178051ac",
   "metadata": {},
   "source": [
    "## Running the test (ungraded)\n",
    "The rest is ready, but we need to write a shell script for doing that.\n",
    "\n",
    "Let's do that!\n",
    "\n"
   ]
  },
  {
   "cell_type": "markdown",
   "id": "2e9f80b2",
   "metadata": {},
   "source": []
  }
 ],
 "metadata": {
  "language_info": {
   "name": "python"
  }
 },
 "nbformat": 4,
 "nbformat_minor": 5
}
